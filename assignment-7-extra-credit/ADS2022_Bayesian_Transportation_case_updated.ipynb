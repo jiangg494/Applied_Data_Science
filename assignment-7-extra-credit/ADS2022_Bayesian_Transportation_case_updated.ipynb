{
 "cells": [
  {
   "cell_type": "markdown",
   "metadata": {
    "id": "QdU1oyxgOP-h"
   },
   "source": [
    "## Transporation mode choice modeling\n",
    "\n",
    "Transportation planning and assessments are important aspects of modeling urban systems and are critical in making key decisions and shaping/estimating the commute behavior of urban populace. Some of the key impact assessments from the model could be evaluating change in net commute time savings, change in pollution emissions, traffic volumes etc. across an urban area of interest.\n",
    "\n",
    "Here we demonstrate a framework for transporation mode choice modeling using Bayesian inference. Essentially, we want to model ridership by mode across multiple modes by estimating mode choice between origin-destination taxi zone pairs in New York City among 4 available mode choices - transit, taxi, walking and driving. \n",
    "\n",
    "We shall use the model to assess the projected impact of transportation interventions, e.g. imposing a $3 congestion surcharge on the taxies accross NYC (similar to the Manhattan Congestion Surcharge actually implemented but now accross the entire city).\n",
    "\n",
    "This case comes from our project with NYU C2SMART supported by US DOT on assessing the impact of ride-sharing in NYC. You may find a complete presentation here: https://www.youtube.com/watch?v=5L5r5nvsudI\n",
    "and a publication on https://arxiv.org/abs/2010.06588"
   ]
  },
  {
   "cell_type": "code",
   "execution_count": 1,
   "metadata": {
    "colab": {
     "base_uri": "https://localhost:8080/"
    },
    "id": "0OV3_FRIORXK",
    "outputId": "41760dba-847f-45a2-f479-f1d1322cf173",
    "scrolled": true
   },
   "outputs": [],
   "source": [
    "# !pip install arviz==0.6.1\n",
    "# !pip install pymc3==3.5\n",
    "# !pip install Theano==1.0.4"
   ]
  },
  {
   "cell_type": "code",
   "execution_count": 2,
   "metadata": {
    "id": "qraS57-mOP-j"
   },
   "outputs": [],
   "source": [
    "import pandas as pd\n",
    "import numpy as np\n",
    "from numpy import inf\n",
    "import seaborn as sns\n",
    "from scipy.stats import norm\n",
    "import itertools\n",
    "import theano\n",
    "from theano import tensor as tt\n",
    "import pymc3 as pm\n",
    "import arviz\n",
    "from matplotlib import pyplot as plt\n",
    "%matplotlib inline"
   ]
  },
  {
   "cell_type": "markdown",
   "metadata": {
    "id": "DP8qC8UXOP-m"
   },
   "source": [
    "We use data from primarily two sources: \n",
    "- the travel duration and fare cost for taxi, transit and driving modes are extracted from Google Maps API for each of the origin-destination taxi zone pairs. Cost for walking is kept as 0.\n",
    "- the mobility information and aggregated income information is retrieved from LEHD data along with ACS for origin-destination commute choice information, further aggregated on taxi zone levels.\n",
    "\n",
    "\n",
    "The combined data thus contains travel time, travel cost and aggregated commuter information corresponding to each of O-D pairs and 4 travel modes.\n",
    "\n",
    "The travel modes (column 'tmode') contains codes for each mode referenced as- 2: transit, 3: taxi, 5: walking, 8: driving\n"
   ]
  },
  {
   "cell_type": "code",
   "execution_count": 3,
   "metadata": {
    "colab": {
     "base_uri": "https://localhost:8080/",
     "height": 204
    },
    "id": "6GLZ2ATNOP-m",
    "outputId": "29f372bd-c3dd-472d-b00c-5e7a1b98a879"
   },
   "outputs": [
    {
     "data": {
      "text/html": [
       "<div>\n",
       "<style scoped>\n",
       "    .dataframe tbody tr th:only-of-type {\n",
       "        vertical-align: middle;\n",
       "    }\n",
       "\n",
       "    .dataframe tbody tr th {\n",
       "        vertical-align: top;\n",
       "    }\n",
       "\n",
       "    .dataframe thead th {\n",
       "        text-align: right;\n",
       "    }\n",
       "</style>\n",
       "<table border=\"1\" class=\"dataframe\">\n",
       "  <thead>\n",
       "    <tr style=\"text-align: right;\">\n",
       "      <th></th>\n",
       "      <th>pulocationid</th>\n",
       "      <th>dolocationid</th>\n",
       "      <th>tmode</th>\n",
       "      <th>duration</th>\n",
       "      <th>price</th>\n",
       "      <th>ridership</th>\n",
       "    </tr>\n",
       "  </thead>\n",
       "  <tbody>\n",
       "    <tr>\n",
       "      <th>0</th>\n",
       "      <td>3</td>\n",
       "      <td>7</td>\n",
       "      <td>8</td>\n",
       "      <td>0.653356</td>\n",
       "      <td>12.721600</td>\n",
       "      <td>736</td>\n",
       "    </tr>\n",
       "    <tr>\n",
       "      <th>1</th>\n",
       "      <td>3</td>\n",
       "      <td>7</td>\n",
       "      <td>3</td>\n",
       "      <td>0.798016</td>\n",
       "      <td>43.157143</td>\n",
       "      <td>0</td>\n",
       "    </tr>\n",
       "    <tr>\n",
       "      <th>2</th>\n",
       "      <td>3</td>\n",
       "      <td>18</td>\n",
       "      <td>3</td>\n",
       "      <td>0.254000</td>\n",
       "      <td>12.900000</td>\n",
       "      <td>1748</td>\n",
       "    </tr>\n",
       "    <tr>\n",
       "      <th>3</th>\n",
       "      <td>3</td>\n",
       "      <td>18</td>\n",
       "      <td>5</td>\n",
       "      <td>1.084444</td>\n",
       "      <td>0.000000</td>\n",
       "      <td>3174</td>\n",
       "    </tr>\n",
       "    <tr>\n",
       "      <th>4</th>\n",
       "      <td>3</td>\n",
       "      <td>18</td>\n",
       "      <td>8</td>\n",
       "      <td>0.268923</td>\n",
       "      <td>7.432000</td>\n",
       "      <td>10879</td>\n",
       "    </tr>\n",
       "  </tbody>\n",
       "</table>\n",
       "</div>"
      ],
      "text/plain": [
       "   pulocationid  dolocationid  tmode  duration      price  ridership\n",
       "0             3             7      8  0.653356  12.721600        736\n",
       "1             3             7      3  0.798016  43.157143          0\n",
       "2             3            18      3  0.254000  12.900000       1748\n",
       "3             3            18      5  1.084444   0.000000       3174\n",
       "4             3            18      8  0.268923   7.432000      10879"
      ]
     },
     "execution_count": 3,
     "metadata": {},
     "output_type": "execute_result"
    }
   ],
   "source": [
    "# read the data\n",
    "\n",
    "data = pd.read_csv('LEHD_commute.csv')\n",
    "data['duration'] = data['duration']/60  # convert time to hours\n",
    "data['ridership'] = data.iloc[:, 5:].sum(axis=1)  ## aggregate the ridership across income groups\n",
    "data = data[['pulocationid', 'dolocationid', 'tmode', 'duration', 'price', 'ridership']]\n",
    "data.head()"
   ]
  },
  {
   "cell_type": "code",
   "execution_count": 4,
   "metadata": {
    "colab": {
     "base_uri": "https://localhost:8080/"
    },
    "id": "zUnj4ncQhTPB",
    "outputId": "fff19e4d-59ee-4e9b-f8a7-246bfc946422"
   },
   "outputs": [
    {
     "data": {
      "text/plain": [
       "191552556"
      ]
     },
     "execution_count": 4,
     "metadata": {},
     "output_type": "execute_result"
    }
   ],
   "source": [
    "data.ridership.sum()"
   ]
  },
  {
   "cell_type": "code",
   "execution_count": 5,
   "metadata": {
    "colab": {
     "base_uri": "https://localhost:8080/"
    },
    "id": "5c2L8g-wOP-n",
    "outputId": "f118ce89-9abb-412d-b8e9-2fe81000374b"
   },
   "outputs": [
    {
     "data": {
      "text/plain": [
       "19152"
      ]
     },
     "execution_count": 5,
     "metadata": {},
     "output_type": "execute_result"
    }
   ],
   "source": [
    "# number of unique O-D pairs\n",
    "\n",
    "len(data[['pulocationid', 'dolocationid']].drop_duplicates())"
   ]
  },
  {
   "cell_type": "code",
   "execution_count": 6,
   "metadata": {
    "colab": {
     "base_uri": "https://localhost:8080/"
    },
    "id": "6ZJUgB-tOP-n",
    "outputId": "e12584cb-dc3a-44e0-f76a-2a4d81bc1f69"
   },
   "outputs": [
    {
     "data": {
      "text/plain": [
       "array([8, 3, 5, 2])"
      ]
     },
     "execution_count": 6,
     "metadata": {},
     "output_type": "execute_result"
    }
   ],
   "source": [
    "# unique modes\n",
    "\n",
    "data.tmode.unique()"
   ]
  },
  {
   "cell_type": "code",
   "execution_count": 7,
   "metadata": {
    "colab": {
     "base_uri": "https://localhost:8080/",
     "height": 415
    },
    "id": "rwPC5iPbW8GT",
    "outputId": "8a2c658e-fa49-43df-feb1-97843566db47"
   },
   "outputs": [
    {
     "data": {
      "text/plain": [
       "([<matplotlib.axis.XTick at 0x13db305b0>,\n",
       "  <matplotlib.axis.XTick at 0x13db30580>,\n",
       "  <matplotlib.axis.XTick at 0x13db2a100>,\n",
       "  <matplotlib.axis.XTick at 0x13dae4b20>],\n",
       " [Text(0, 0, 'Transit'),\n",
       "  Text(1, 0, 'Taxi'),\n",
       "  Text(2, 0, 'Walking'),\n",
       "  Text(3, 0, 'Driving')])"
      ]
     },
     "execution_count": 7,
     "metadata": {},
     "output_type": "execute_result"
    },
    {
     "data": {
      "image/png": "[encoded data removed]",
      "text/plain": [
       "<Figure size 432x288 with 1 Axes>"
      ]
     },
     "metadata": {
      "needs_background": "light"
     },
     "output_type": "display_data"
    }
   ],
   "source": [
    "## ridership by mode\n",
    "byMode = data.groupby(by='tmode', as_index=False).sum()[['tmode', 'ridership']]\n",
    "plt.bar(np.arange(len(byMode)), list(byMode.ridership), edgecolor = 'black')\n",
    "plt.xticks([r  for r in range(len(byMode))], ['Transit', 'Taxi',\n",
    "                                                      'Walking', 'Driving'], fontsize=12)"
   ]
  },
  {
   "cell_type": "markdown",
   "metadata": {
    "id": "t7gbqSVdOP-n"
   },
   "source": [
    "We use the Multinomial Logit (MNL) as the modeling framework for estimating the mode choice probabilities. MNL is broadly used in transportation choice modeling. It offers an advantage of estimating the mode-choice probabilities using closed-form formulas representing the aggregate-level choices.\n",
    "\n",
    "the probabilities for each of the four major transportation modes to be chosen as having the highest utility is defined as\n",
    "$$\n",
    "\\begin{equation}\n",
    "    P_{mode} = \\frac{e^{\\lambda U_{mode}}}{e^{\\lambda U_{taxi}} + e^{\\lambda U_{transit}} + e^{\\lambda U_{walk}} + e^{\\lambda U_{drive}}}\n",
    "\\end{equation}\n",
    "$$\n",
    "\n",
    "$\\lambda$ being subject to fit, which controls the sensitivity of the resulting mode choices to the differences in utility (the higher is lambda, the higher are the chances to choose the mode with the highest objective utility). We shall explain the idea of where the formulae comes from below.\n",
    "\n",
    "Additionally, we define the utilily below.\n",
    "\n",
    "Mathematically, the utility score $U_j$ for alternative ${j}$ depends on the time taken $T_j$ between the O-D pair in consideration and the monetary cost $P_j$ for choosing the alternative, and a random component of error $\\epsilon_j$ , yielding a base utility function\n",
    "$$\n",
    "\\begin{equation}\n",
    "    U_j = -(CT_j + P_j)\n",
    "\\end{equation}$$\n",
    "\n",
    "where C is kept as a constant. \n",
    "\n",
    "This objective utility can be interpreted as perceived total 'value' of a given mode for commuting between an o-d pair by the commuter, incorporating the direct cost and the cost of time. But if people were to make their choices excusively based on the objective utility we would have everyone choosing the same mode with the highest utility all the time. \n",
    "\n",
    "However the people may have some personal preferences for the certain modes to combine with the direct monetary cost to assess the overall subjective utility. The formulae of the multinomial logit model (MNL) choice probaiblities actually assesses the ratio of people for whom the given mode would have the highest subjective utility. In order to account for it an additional random error term $\\epsilon$ following a particular distribution could be added to the objective utility. This way the subjective utility to be maximized is expressed as\n",
    "$\\begin{equation}\n",
    "    U_j = -(CT_j + P_j) + \\epsilon\n",
    "\\end{equation}$\n",
    "and the formulae of the MNL model calculates the probability of having this subjective utility for any given mode the highest among all the available modes in the assumption than $\\epsilon$ follows Weibull distribution.\n",
    "\n",
    "See https://en.wikibooks.org/wiki/Fundamentals_of_Transportation/Choice_Modeling#The_Logit_Model for further details.\n",
    "\n",
    "\n",
    "#### Likelihood estimation\n",
    "\n",
    "From the estimated probabilities $P_m$, we compute the likelihood of the observed C2SMART data give the model for each set of $\\beta, \\sigma$ parameters. For mode choice probabilities $P_m(o,d,\\sigma,\\beta)$ for each set of origin(o) and destination(d), the log-likelihood for four modes given the observed C2SMART ridership $R_m(o,d)$ is calculated as\n",
    "$$\n",
    "\\begin{equation}\n",
    "    L(\\sigma, \\beta) = \\sum_{o,d}\\sum_m R_m(o,d)\\ln P_m(o,d,\\sigma,\\beta)\n",
    "\\end{equation}\n",
    "$$\n",
    "\n",
    "\n",
    "One can simulate the results just for the max-likelihood parameters, however comprehensive parameter sampling provides assessment with respect to the model uncertainty.\n",
    "\n"
   ]
  },
  {
   "cell_type": "code",
   "execution_count": 8,
   "metadata": {
    "colab": {
     "base_uri": "https://localhost:8080/"
    },
    "id": "mk_1nzU_OP-p",
    "outputId": "7a7f9810-e235-450f-9d94-0e6bbdbe66a9"
   },
   "outputs": [
    {
     "data": {
      "text/plain": [
       "3.8449074074074074"
      ]
     },
     "execution_count": 8,
     "metadata": {},
     "output_type": "execute_result"
    }
   ],
   "source": [
    "# choice for constant C - put as median hourly NYC income\n",
    "# NYC median income is ~ $33,220 per year\n",
    "# we count the total hours rather than business hours to get a somewhat lower bound estimate as people tend to undervalue the price of the time spend outside of work\n",
    "# ideally C could be another parameter of the model, but here we go with a fixed estimate\n",
    "\n",
    "C = 33220/(12*30*24)\n",
    "C"
   ]
  },
  {
   "cell_type": "markdown",
   "metadata": {
    "id": "w7pOdOBqX6kZ"
   },
   "source": [
    "As defined in the utility function, the coefficient C can be interpreted as a parameter incorporating irrationality of decisions based on time and cost. \n",
    "\n",
    "We use the total number of hours in a day instead of number of working hours to assess the cost of time as people often underestimate the value of time.  So we try a lower bound value (which apparently also provides a better fit to the data). It could be a good idea to fit C as another parameter of the model, but we keep it fixed to make fitting easier for the illustration purposes."
   ]
  },
  {
   "cell_type": "markdown",
   "metadata": {
    "id": "xl7TPF5LwNdF"
   },
   "source": [
    "Modeling:  We'll use Bayesian inference for fitting the model. There is just one parameter $\\lambda$ in our model specifications. We will estimate it's posterior distribution from MCMC sampling."
   ]
  },
  {
   "cell_type": "code",
   "execution_count": 9,
   "metadata": {
    "colab": {
     "base_uri": "https://localhost:8080/",
     "height": 265
    },
    "id": "VAN57Z5Ot0dU",
    "outputId": "0ceef45d-a19a-4db4-c062-81ffc1afd67e"
   },
   "outputs": [
    {
     "data": {
      "image/png": "[encoded data removed]",
      "text/plain": [
       "<Figure size 432x288 with 1 Axes>"
      ]
     },
     "metadata": {
      "needs_background": "light"
     },
     "output_type": "display_data"
    }
   ],
   "source": [
    "# prior for lambda \n",
    "\n",
    "fig, ax = plt.subplots()\n",
    "x= np.arange(-1,3,0.001)\n",
    "ax.plot(x, norm.pdf(x, loc=1, scale=0.5))\n",
    "\n",
    "plt.show()"
   ]
  },
  {
   "cell_type": "code",
   "execution_count": 10,
   "metadata": {
    "id": "CPGg3m1mOP-q"
   },
   "outputs": [],
   "source": [
    "def MNL(lambda_, data):  # multinomial logit probabilities\n",
    "\n",
    "    # compute probabilities from utility defined above\n",
    "    prob_n = np.exp(lambda_*(-(np.random.normal(loc=data['duration'].values, scale=np.sqrt(data['duration'].values))*3.84 + \n",
    "                               np.random.normal(loc=data['price'].values, scale=np.sqrt(data['price'].values))) + np.random.normal(loc=0, scale=10)))\n",
    "    prob_d = np.sum(prob_n)\n",
    "    pred =  prob_n/prob_d\n",
    "    return pred\n",
    "    \n",
    "def like(lambda_, obs=data['ridership'], return_prob=False):   # compute likelihood\n",
    "\n",
    "    pred = []\n",
    "    # scale = 10000**2\n",
    "\n",
    "    # get MNL probabilities for each o-d travel modes\n",
    "    for o, d in zip(data[['pulocationid', 'dolocationid']].drop_duplicates()['pulocationid'], \n",
    "      data[['pulocationid', 'dolocationid']].drop_duplicates()['dolocationid']):   # iterate each o-d\n",
    "        odLoc = data[(data.pulocationid == o) & (data.dolocationid == d)]\n",
    "        pred.append(MNL(lambda_, odLoc))\n",
    "\n",
    "    pred = np.array(list(itertools.chain(*pred)))\n",
    "\n",
    "    pred = pred.astype(float)\n",
    "    pred[pred == 0] = 0.0001\n",
    "\n",
    "    # return_prob argument is for getting numpy array vs tensor (required for MCMC sampling)\n",
    "    if return_prob == True:\n",
    "        return np.sum(np.log(pred)*obs)\n",
    "    else:\n",
    "        return tt.sum(tt.log(pred)*obs)"
   ]
  },
  {
   "cell_type": "markdown",
   "metadata": {
    "id": "QevV_h11v-2D"
   },
   "source": [
    "Let's estimate the posterior distribution of lambda parameter from MCMC simulations."
   ]
  },
  {
   "cell_type": "code",
   "execution_count": 11,
   "metadata": {
    "colab": {
     "base_uri": "https://localhost:8080/"
    },
    "id": "qqXL_vTwX4Bu",
    "outputId": "289c8c98-810a-46a1-f635-eec46a060fe3"
   },
   "outputs": [
    {
     "data": {
      "text/html": [
       "\n",
       "<style>\n",
       "    /* Turns off some styling */\n",
       "    progress {\n",
       "        /* gets rid of default border in Firefox and Opera. */\n",
       "        border: none;\n",
       "        /* Needs to be in here for Safari polyfill so background images work as expected. */\n",
       "        background-size: auto;\n",
       "    }\n",
       "    .progress-bar-interrupted, .progress-bar-interrupted::-webkit-progress-bar {\n",
       "        background: #F44336;\n",
       "    }\n",
       "</style>\n"
      ],
      "text/plain": [
       "<IPython.core.display.HTML object>"
      ]
     },
     "metadata": {},
     "output_type": "display_data"
    },
    {
     "data": {
      "text/html": [
       "\n",
       "    <div>\n",
       "      <progress value='1' class='' max='1' style='width:300px; height:20px; vertical-align: middle;'></progress>\n",
       "      100.00% [1/1 00:00<00:00 logp = -6.3469e+08, ||grad|| = 0]\n",
       "    </div>\n",
       "    "
      ],
      "text/plain": [
       "<IPython.core.display.HTML object>"
      ]
     },
     "metadata": {},
     "output_type": "display_data"
    },
    {
     "name": "stdout",
     "output_type": "stream",
     "text": [
      "\n"
     ]
    },
    {
     "name": "stderr",
     "output_type": "stream",
     "text": [
      "<ipython-input-11-8c9c7830725d>:6: DeprecationWarning: Call to deprecated Parameter start. (renamed to `initvals` in PyMC v4.0.0) -- Deprecated since v3.11.5.\n",
      "  trace = pm.sample(1000, start=start, progressbar=True) # estimate posterior from MCMC sampling\n",
      "/Users/apple/opt/anaconda3/lib/python3.8/site-packages/deprecat/classic.py:215: FutureWarning: In v4.0, pm.sample will return an `arviz.InferenceData` object instead of a `MultiTrace` by default. You can pass return_inferencedata=True or return_inferencedata=False to be safe and silence this warning.\n",
      "  return wrapped_(*args_, **kwargs_)\n",
      "Auto-assigning NUTS sampler...\n",
      "Initializing NUTS using jitter+adapt_diag...\n",
      "Multiprocess sampling (4 chains in 4 jobs)\n",
      "NUTS: [lambda]\n"
     ]
    },
    {
     "data": {
      "text/html": [
       "\n",
       "<style>\n",
       "    /* Turns off some styling */\n",
       "    progress {\n",
       "        /* gets rid of default border in Firefox and Opera. */\n",
       "        border: none;\n",
       "        /* Needs to be in here for Safari polyfill so background images work as expected. */\n",
       "        background-size: auto;\n",
       "    }\n",
       "    .progress-bar-interrupted, .progress-bar-interrupted::-webkit-progress-bar {\n",
       "        background: #F44336;\n",
       "    }\n",
       "</style>\n"
      ],
      "text/plain": [
       "<IPython.core.display.HTML object>"
      ]
     },
     "metadata": {},
     "output_type": "display_data"
    },
    {
     "data": {
      "text/html": [
       "\n",
       "    <div>\n",
       "      <progress value='8000' class='' max='8000' style='width:300px; height:20px; vertical-align: middle;'></progress>\n",
       "      100.00% [8000/8000 00:01<00:00 Sampling 4 chains, 0 divergences]\n",
       "    </div>\n",
       "    "
      ],
      "text/plain": [
       "<IPython.core.display.HTML object>"
      ]
     },
     "metadata": {},
     "output_type": "display_data"
    },
    {
     "name": "stderr",
     "output_type": "stream",
     "text": [
      "Sampling 4 chains for 1_000 tune and 1_000 draw iterations (4_000 + 4_000 draws total) took 12 seconds.\n"
     ]
    }
   ],
   "source": [
    "with pm.Model() as transport_model:\n",
    "    lambda1 = pm.Normal('lambda', mu=1, sd=0.5) # lambda prior\n",
    "\n",
    "    likelihood = pm.Potential('likelihood', like(lambda1.random(), data['ridership'])) ## likelihood, we call above likelihood function with 'Potential' in pymc3\n",
    "    start = pm.find_MAP()  # find max likelihood\n",
    "    trace = pm.sample(1000, start=start, progressbar=True) # estimate posterior from MCMC sampling"
   ]
  },
  {
   "cell_type": "code",
   "execution_count": 12,
   "metadata": {},
   "outputs": [
    {
     "name": "stderr",
     "output_type": "stream",
     "text": [
      "Got error No model on context stack. trying to find log_likelihood in translation.\n",
      "/Users/apple/opt/anaconda3/lib/python3.8/site-packages/arviz/data/io_pymc3_3x.py:98: FutureWarning: Using `from_pymc3` without the model will be deprecated in a future release. Not using the model will return less accurate and less useful results. Make sure you use the model argument or call from_pymc3 within a model context.\n",
      "  warnings.warn(\n",
      "Got error No model on context stack. trying to find log_likelihood in translation.\n"
     ]
    },
    {
     "data": {
      "text/plain": [
       "<Figure size 720x720 with 0 Axes>"
      ]
     },
     "execution_count": 12,
     "metadata": {},
     "output_type": "execute_result"
    },
    {
     "data": {
      "image/png": "[encoded data removed]",
      "text/plain": [
       "<Figure size 864x144 with 2 Axes>"
      ]
     },
     "metadata": {
      "needs_background": "light"
     },
     "output_type": "display_data"
    },
    {
     "data": {
      "text/plain": [
       "<Figure size 720x720 with 0 Axes>"
      ]
     },
     "metadata": {},
     "output_type": "display_data"
    }
   ],
   "source": [
    "fig = arviz.plot_trace(trace[199:1000])\n",
    "plt.figure(figsize = (10, 10))"
   ]
  },
  {
   "cell_type": "code",
   "execution_count": 13,
   "metadata": {
    "colab": {
     "base_uri": "https://localhost:8080/",
     "height": 441
    },
    "id": "XSRisp_EYe6L",
    "outputId": "02fa4c65-13ea-481b-ecfe-4cba11e38a01"
   },
   "outputs": [
    {
     "name": "stderr",
     "output_type": "stream",
     "text": [
      "Got error No model on context stack. trying to find log_likelihood in translation.\n",
      "/Users/apple/opt/anaconda3/lib/python3.8/site-packages/arviz/data/io_pymc3_3x.py:98: FutureWarning: Using `from_pymc3` without the model will be deprecated in a future release. Not using the model will return less accurate and less useful results. Make sure you use the model argument or call from_pymc3 within a model context.\n",
      "  warnings.warn(\n"
     ]
    },
    {
     "data": {
      "image/png": "[encoded data removed]",
      "text/plain": [
       "<Figure size 576x432 with 1 Axes>"
      ]
     },
     "metadata": {
      "needs_background": "light"
     },
     "output_type": "display_data"
    }
   ],
   "source": [
    "arviz.plot_posterior(trace, figsize = (8, 6));"
   ]
  },
  {
   "cell_type": "code",
   "execution_count": 14,
   "metadata": {
    "colab": {
     "base_uri": "https://localhost:8080/"
    },
    "id": "1una0Y_TZ484",
    "outputId": "1ee71e88-282f-4fc9-d5a6-6fe219730dd6"
   },
   "outputs": [
    {
     "name": "stdout",
     "output_type": "stream",
     "text": [
      "1.0\n"
     ]
    }
   ],
   "source": [
    "# print max-likelihood lambda\n",
    "\n",
    "print(start['lambda'])"
   ]
  },
  {
   "cell_type": "markdown",
   "metadata": {
    "id": "wTL9qq8yOP-q"
   },
   "source": [
    "### Assessing mode-shift in an intervention scenario\n",
    "\n",
    "Now let's use the above model to evaluate the change in mobility across 4 modes when we impose an intervention case - additional surcharge of $3 for taxi rides anywhere in the city. One can expect a decrease in ridership for taxis owing to this intervention but assessing the mode-shift would enable to see how exactly the trips would redistribute across the other modes.\n",
    "\n",
    "We will estimate the mode-shift numbers with respect to uncertainty by calculating the variance in trip numbers across all modes. This can be done by estimating variance of mode-shift numbers for lambdas drawn from posterior distribution, weighted by their likelihood values."
   ]
  },
  {
   "cell_type": "markdown",
   "metadata": {
    "id": "ebUGNowRrBjV"
   },
   "source": [
    "Now let's make another copy of data with the additional $3 surcharge to the taxi trips."
   ]
  },
  {
   "cell_type": "code",
   "execution_count": 15,
   "metadata": {
    "colab": {
     "base_uri": "https://localhost:8080/",
     "height": 204
    },
    "id": "FMEKoF2WmdF4",
    "outputId": "98d3d9b3-8505-4058-a336-a4e7307cfe4f"
   },
   "outputs": [
    {
     "data": {
      "text/html": [
       "<div>\n",
       "<style scoped>\n",
       "    .dataframe tbody tr th:only-of-type {\n",
       "        vertical-align: middle;\n",
       "    }\n",
       "\n",
       "    .dataframe tbody tr th {\n",
       "        vertical-align: top;\n",
       "    }\n",
       "\n",
       "    .dataframe thead th {\n",
       "        text-align: right;\n",
       "    }\n",
       "</style>\n",
       "<table border=\"1\" class=\"dataframe\">\n",
       "  <thead>\n",
       "    <tr style=\"text-align: right;\">\n",
       "      <th></th>\n",
       "      <th>pulocationid</th>\n",
       "      <th>dolocationid</th>\n",
       "      <th>tmode</th>\n",
       "      <th>duration</th>\n",
       "      <th>price</th>\n",
       "      <th>ridership</th>\n",
       "    </tr>\n",
       "  </thead>\n",
       "  <tbody>\n",
       "    <tr>\n",
       "      <th>0</th>\n",
       "      <td>3</td>\n",
       "      <td>7</td>\n",
       "      <td>8</td>\n",
       "      <td>0.653356</td>\n",
       "      <td>12.721600</td>\n",
       "      <td>736</td>\n",
       "    </tr>\n",
       "    <tr>\n",
       "      <th>1</th>\n",
       "      <td>3</td>\n",
       "      <td>7</td>\n",
       "      <td>3</td>\n",
       "      <td>0.798016</td>\n",
       "      <td>46.157143</td>\n",
       "      <td>0</td>\n",
       "    </tr>\n",
       "    <tr>\n",
       "      <th>2</th>\n",
       "      <td>3</td>\n",
       "      <td>18</td>\n",
       "      <td>3</td>\n",
       "      <td>0.254000</td>\n",
       "      <td>15.900000</td>\n",
       "      <td>1748</td>\n",
       "    </tr>\n",
       "    <tr>\n",
       "      <th>3</th>\n",
       "      <td>3</td>\n",
       "      <td>18</td>\n",
       "      <td>5</td>\n",
       "      <td>1.084444</td>\n",
       "      <td>0.000000</td>\n",
       "      <td>3174</td>\n",
       "    </tr>\n",
       "    <tr>\n",
       "      <th>4</th>\n",
       "      <td>3</td>\n",
       "      <td>18</td>\n",
       "      <td>8</td>\n",
       "      <td>0.268923</td>\n",
       "      <td>7.432000</td>\n",
       "      <td>10879</td>\n",
       "    </tr>\n",
       "  </tbody>\n",
       "</table>\n",
       "</div>"
      ],
      "text/plain": [
       "   pulocationid  dolocationid  tmode  duration      price  ridership\n",
       "0             3             7      8  0.653356  12.721600        736\n",
       "1             3             7      3  0.798016  46.157143          0\n",
       "2             3            18      3  0.254000  15.900000       1748\n",
       "3             3            18      5  1.084444   0.000000       3174\n",
       "4             3            18      8  0.268923   7.432000      10879"
      ]
     },
     "execution_count": 15,
     "metadata": {},
     "output_type": "execute_result"
    }
   ],
   "source": [
    "data1 = data.copy()  # make new df\n",
    "data1.loc[data1.tmode == 3, 'price'] = data1.loc[data1.tmode == 3, 'price'] + 3\n",
    "data1.head()"
   ]
  },
  {
   "cell_type": "markdown",
   "metadata": {
    "id": "at2R15lAhJNh"
   },
   "source": [
    "Let's run the model and estimate aggregate mode-shift across modes w.r.t. uncertainty."
   ]
  },
  {
   "cell_type": "code",
   "execution_count": 16,
   "metadata": {
    "id": "tRVeMDGjsFzB",
    "scrolled": true
   },
   "outputs": [],
   "source": [
    "lambdas = np.random.choice(trace['lambda'], 3)  # draw samples from lambda posterior\n",
    "# this step could take ~15 mins for 100 samples, reduce the number of samples for faster\n",
    "\n",
    "likes = []   # likelihood values\n",
    "mobDiff = {2:[], 3:[], 5:[], 8:[]}   # mode-shift numbers\n",
    "\n",
    "# estimate trips for lambdas and corresponding likelihoods\n",
    "for l in lambdas:\n",
    "    tempMob_noInter = {2:0, 3:0, 5:0, 8:0}   \n",
    "    tempMob_Inter = {2:0, 3:0, 5:0, 8:0}\n",
    "    for o, d in zip(data[['pulocationid', 'dolocationid']].drop_duplicates()['pulocationid'], \n",
    "        data[['pulocationid', 'dolocationid']].drop_duplicates()['dolocationid']):\n",
    "    \n",
    "        odLoc_noInter = data[(data.pulocationid == o) & (data.dolocationid == d)]\n",
    "        odLoc_Inter = data1[(data1.pulocationid == o) & (data1.dolocationid == d)]  \n",
    "        modes = odLoc_Inter.tmode.values\n",
    "\n",
    "        # probabilities for pre-intervention and post-intervention\n",
    "        prob_noInter = MNL(l, odLoc_noInter)  \n",
    "        prob_Inter = MNL(l, odLoc_Inter)    \n",
    "\n",
    "        for index, mode in enumerate(modes):\n",
    "            tempMob_Inter[mode] = tempMob_Inter[mode] + prob_Inter[index]*np.sum(odLoc_noInter['ridership'])\n",
    "            tempMob_noInter[mode] = tempMob_noInter[mode] + prob_noInter[index]*np.sum(odLoc_Inter['ridership'])\n",
    "        \n",
    "    lhood = np.exp(like(l, return_prob=True))   # likelihood\n",
    "    for it in mobDiff.keys():\n",
    "        mobDiff[it].append(100.0 * tempMob_Inter[it] / tempMob_noInter[it] - 100.0)\n",
    "    likes.append(lhood)\n",
    "            # tempMob.update((x , y*l)for x, y in tempMob.items())"
   ]
  },
  {
   "cell_type": "code",
   "execution_count": 17,
   "metadata": {
    "colab": {
     "base_uri": "https://localhost:8080/"
    },
    "id": "6SxqcnRtd2C_",
    "outputId": "24ce82f9-718a-430f-b519-360ac0d5b7b1"
   },
   "outputs": [
    {
     "name": "stdout",
     "output_type": "stream",
     "text": [
      "average change for mode 2 : 2.317454576032484 , std: 1.074892947265034\n",
      "average change for mode 3 : -51.37814302769706 , std: 5.925551125775484\n",
      "average change for mode 5 : 1.7044735110189275 , std: 2.407441025781498\n",
      "average change for mode 8 : 4.186639314155339 , std: 2.534218316942224\n"
     ]
    }
   ],
   "source": [
    "# calculate average and std of mode-shift percentages (relative drop or increase in each mode usage after the intervention)\n",
    "\n",
    "for mode in mobDiff.keys():\n",
    "\n",
    "    mean = np.average(mobDiff[mode])\n",
    "    std = abs(np.average((mobDiff[mode] - np.mean(mobDiff[mode]))**2))\n",
    "    print('average change for mode', mode, ':', mean, ', std:', np.sqrt(std))"
   ]
  },
  {
   "cell_type": "markdown",
   "metadata": {
    "id": "HCr8GoZuzVpI"
   },
   "source": [
    "## HW tasks:\n",
    "\n",
    "Assess the mode-shift impacts (%% of change in each mode usage with respect to uncertainty) from:\n",
    "1. Surcharge of \\\\$1, \\\\$5 and \\\\$10 imposed on private car trips (tmode=8)\n",
    "\n",
    "2. EXTRACREDIT: Surcharge of \\\\$3 surcharge to taxi trips, but added only to trips originating from Manhattan.\n",
    "\n",
    "you will need to read the NYC taxi zone shapefile from github. https://github.com/CUSP2022ADS/Data/blob/main/taxizone.geojson\n"
   ]
  },
  {
   "cell_type": "code",
   "execution_count": 18,
   "metadata": {
    "id": "qdqFbrTA90_Z"
   },
   "outputs": [
    {
     "data": {
      "text/html": [
       "<div>\n",
       "<style scoped>\n",
       "    .dataframe tbody tr th:only-of-type {\n",
       "        vertical-align: middle;\n",
       "    }\n",
       "\n",
       "    .dataframe tbody tr th {\n",
       "        vertical-align: top;\n",
       "    }\n",
       "\n",
       "    .dataframe thead th {\n",
       "        text-align: right;\n",
       "    }\n",
       "</style>\n",
       "<table border=\"1\" class=\"dataframe\">\n",
       "  <thead>\n",
       "    <tr style=\"text-align: right;\">\n",
       "      <th></th>\n",
       "      <th>pulocationid</th>\n",
       "      <th>dolocationid</th>\n",
       "      <th>tmode</th>\n",
       "      <th>duration</th>\n",
       "      <th>price</th>\n",
       "      <th>ridership</th>\n",
       "    </tr>\n",
       "  </thead>\n",
       "  <tbody>\n",
       "    <tr>\n",
       "      <th>0</th>\n",
       "      <td>3</td>\n",
       "      <td>7</td>\n",
       "      <td>8</td>\n",
       "      <td>0.653356</td>\n",
       "      <td>13.721600</td>\n",
       "      <td>736</td>\n",
       "    </tr>\n",
       "    <tr>\n",
       "      <th>1</th>\n",
       "      <td>3</td>\n",
       "      <td>7</td>\n",
       "      <td>3</td>\n",
       "      <td>0.798016</td>\n",
       "      <td>43.157143</td>\n",
       "      <td>0</td>\n",
       "    </tr>\n",
       "    <tr>\n",
       "      <th>2</th>\n",
       "      <td>3</td>\n",
       "      <td>18</td>\n",
       "      <td>3</td>\n",
       "      <td>0.254000</td>\n",
       "      <td>12.900000</td>\n",
       "      <td>1748</td>\n",
       "    </tr>\n",
       "    <tr>\n",
       "      <th>3</th>\n",
       "      <td>3</td>\n",
       "      <td>18</td>\n",
       "      <td>5</td>\n",
       "      <td>1.084444</td>\n",
       "      <td>0.000000</td>\n",
       "      <td>3174</td>\n",
       "    </tr>\n",
       "    <tr>\n",
       "      <th>4</th>\n",
       "      <td>3</td>\n",
       "      <td>18</td>\n",
       "      <td>8</td>\n",
       "      <td>0.268923</td>\n",
       "      <td>8.432000</td>\n",
       "      <td>10879</td>\n",
       "    </tr>\n",
       "  </tbody>\n",
       "</table>\n",
       "</div>"
      ],
      "text/plain": [
       "   pulocationid  dolocationid  tmode  duration      price  ridership\n",
       "0             3             7      8  0.653356  13.721600        736\n",
       "1             3             7      3  0.798016  43.157143          0\n",
       "2             3            18      3  0.254000  12.900000       1748\n",
       "3             3            18      5  1.084444   0.000000       3174\n",
       "4             3            18      8  0.268923   8.432000      10879"
      ]
     },
     "execution_count": 18,
     "metadata": {},
     "output_type": "execute_result"
    }
   ],
   "source": [
    "#Surcharge of $1 on  private car trips\n",
    "data2 = data.copy()  # make new df\n",
    "data2.loc[data2.tmode == 8, 'price'] = data2.loc[data2.tmode == 8, 'price'] + 1\n",
    "data2.head()"
   ]
  },
  {
   "cell_type": "code",
   "execution_count": 19,
   "metadata": {},
   "outputs": [],
   "source": [
    "lambdas = np.random.choice(trace['lambda'], 3)  # draw samples from lambda posterior\n",
    "# this step could take ~15 mins for 100 samples, reduce the number of samples for faster\n",
    "\n",
    "likes = []   # likelihood values\n",
    "mobDiff = {2:[], 3:[], 5:[], 8:[]}   # mode-shift numbers\n",
    "\n",
    "# estimate trips for lambdas and corresponding likelihoods\n",
    "for l in lambdas:\n",
    "    tempMob_noInter = {2:0, 3:0, 5:0, 8:0}   \n",
    "    tempMob_Inter = {2:0, 3:0, 5:0, 8:0}\n",
    "    for o, d in zip(data[['pulocationid', 'dolocationid']].drop_duplicates()['pulocationid'], \n",
    "        data[['pulocationid', 'dolocationid']].drop_duplicates()['dolocationid']):\n",
    "    \n",
    "        odLoc_noInter = data[(data.pulocationid == o) & (data.dolocationid == d)]\n",
    "        odLoc_Inter = data2[(data2.pulocationid == o) & (data2.dolocationid == d)]  \n",
    "        modes = odLoc_Inter.tmode.values\n",
    "\n",
    "        # probabilities for pre-intervention and post-intervention\n",
    "        prob_noInter = MNL(l, odLoc_noInter)  \n",
    "        prob_Inter = MNL(l, odLoc_Inter)    \n",
    "\n",
    "        for index, mode in enumerate(modes):\n",
    "            tempMob_Inter[mode] = tempMob_Inter[mode] + prob_Inter[index]*np.sum(odLoc_noInter['ridership'])\n",
    "            tempMob_noInter[mode] = tempMob_noInter[mode] + prob_noInter[index]*np.sum(odLoc_Inter['ridership'])\n",
    "        \n",
    "    lhood = np.exp(like(l, return_prob=True))   # likelihood\n",
    "    for it in mobDiff.keys():\n",
    "        mobDiff[it].append(100.0 * tempMob_Inter[it] / tempMob_noInter[it] - 100.0)\n",
    "    likes.append(lhood)\n",
    "            # tempMob.update((x , y*l)for x, y in tempMob.items())"
   ]
  },
  {
   "cell_type": "code",
   "execution_count": 20,
   "metadata": {},
   "outputs": [
    {
     "name": "stdout",
     "output_type": "stream",
     "text": [
      "#Surcharge of $1 on  private car trips:\n",
      "\n",
      "average change for mode 2 : 3.774040140950954 , std: 1.50595299205456\n",
      "average change for mode 3 : 0.5400696818254526 , std: 7.756574097669003\n",
      "average change for mode 5 : 2.636468806148713 , std: 0.3747127390574828\n",
      "average change for mode 8 : -13.382795087749306 , std: 2.88421697944648\n"
     ]
    }
   ],
   "source": [
    "print('#Surcharge of $1 on  private car trips:\\n')\n",
    "for mode in mobDiff.keys():\n",
    "\n",
    "    mean = np.average(mobDiff[mode])\n",
    "    std = abs(np.average((mobDiff[mode] - np.mean(mobDiff[mode]))**2))\n",
    "    print('average change for mode', mode, ':', mean, ', std:', np.sqrt(std))"
   ]
  },
  {
   "cell_type": "code",
   "execution_count": 21,
   "metadata": {},
   "outputs": [
    {
     "data": {
      "text/html": [
       "<div>\n",
       "<style scoped>\n",
       "    .dataframe tbody tr th:only-of-type {\n",
       "        vertical-align: middle;\n",
       "    }\n",
       "\n",
       "    .dataframe tbody tr th {\n",
       "        vertical-align: top;\n",
       "    }\n",
       "\n",
       "    .dataframe thead th {\n",
       "        text-align: right;\n",
       "    }\n",
       "</style>\n",
       "<table border=\"1\" class=\"dataframe\">\n",
       "  <thead>\n",
       "    <tr style=\"text-align: right;\">\n",
       "      <th></th>\n",
       "      <th>pulocationid</th>\n",
       "      <th>dolocationid</th>\n",
       "      <th>tmode</th>\n",
       "      <th>duration</th>\n",
       "      <th>price</th>\n",
       "      <th>ridership</th>\n",
       "    </tr>\n",
       "  </thead>\n",
       "  <tbody>\n",
       "    <tr>\n",
       "      <th>0</th>\n",
       "      <td>3</td>\n",
       "      <td>7</td>\n",
       "      <td>8</td>\n",
       "      <td>0.653356</td>\n",
       "      <td>17.721600</td>\n",
       "      <td>736</td>\n",
       "    </tr>\n",
       "    <tr>\n",
       "      <th>1</th>\n",
       "      <td>3</td>\n",
       "      <td>7</td>\n",
       "      <td>3</td>\n",
       "      <td>0.798016</td>\n",
       "      <td>43.157143</td>\n",
       "      <td>0</td>\n",
       "    </tr>\n",
       "    <tr>\n",
       "      <th>2</th>\n",
       "      <td>3</td>\n",
       "      <td>18</td>\n",
       "      <td>3</td>\n",
       "      <td>0.254000</td>\n",
       "      <td>12.900000</td>\n",
       "      <td>1748</td>\n",
       "    </tr>\n",
       "    <tr>\n",
       "      <th>3</th>\n",
       "      <td>3</td>\n",
       "      <td>18</td>\n",
       "      <td>5</td>\n",
       "      <td>1.084444</td>\n",
       "      <td>0.000000</td>\n",
       "      <td>3174</td>\n",
       "    </tr>\n",
       "    <tr>\n",
       "      <th>4</th>\n",
       "      <td>3</td>\n",
       "      <td>18</td>\n",
       "      <td>8</td>\n",
       "      <td>0.268923</td>\n",
       "      <td>12.432000</td>\n",
       "      <td>10879</td>\n",
       "    </tr>\n",
       "  </tbody>\n",
       "</table>\n",
       "</div>"
      ],
      "text/plain": [
       "   pulocationid  dolocationid  tmode  duration      price  ridership\n",
       "0             3             7      8  0.653356  17.721600        736\n",
       "1             3             7      3  0.798016  43.157143          0\n",
       "2             3            18      3  0.254000  12.900000       1748\n",
       "3             3            18      5  1.084444   0.000000       3174\n",
       "4             3            18      8  0.268923  12.432000      10879"
      ]
     },
     "execution_count": 21,
     "metadata": {},
     "output_type": "execute_result"
    }
   ],
   "source": [
    "#Surcharge of $5 on  private car trips\n",
    "data3 = data.copy()  # make new df\n",
    "data3.loc[data3.tmode == 8, 'price'] = data3.loc[data3.tmode == 8, 'price'] + 5\n",
    "data3.head()"
   ]
  },
  {
   "cell_type": "code",
   "execution_count": 22,
   "metadata": {},
   "outputs": [],
   "source": [
    "lambdas = np.random.choice(trace['lambda'], 3)  # draw samples from lambda posterior\n",
    "# this step could take ~15 mins for 100 samples, reduce the number of samples for faster\n",
    "\n",
    "likes = []   # likelihood values\n",
    "mobDiff = {2:[], 3:[], 5:[], 8:[]}   # mode-shift numbers\n",
    "\n",
    "# estimate trips for lambdas and corresponding likelihoods\n",
    "for l in lambdas:\n",
    "    tempMob_noInter = {2:0, 3:0, 5:0, 8:0}   \n",
    "    tempMob_Inter = {2:0, 3:0, 5:0, 8:0}\n",
    "    for o, d in zip(data[['pulocationid', 'dolocationid']].drop_duplicates()['pulocationid'], \n",
    "        data[['pulocationid', 'dolocationid']].drop_duplicates()['dolocationid']):\n",
    "    \n",
    "        odLoc_noInter = data[(data.pulocationid == o) & (data.dolocationid == d)]\n",
    "        odLoc_Inter = data3[(data3.pulocationid == o) & (data3.dolocationid == d)]  \n",
    "        modes = odLoc_Inter.tmode.values\n",
    "\n",
    "        # probabilities for pre-intervention and post-intervention\n",
    "        prob_noInter = MNL(l, odLoc_noInter)  \n",
    "        prob_Inter = MNL(l, odLoc_Inter)    \n",
    "\n",
    "        for index, mode in enumerate(modes):\n",
    "            tempMob_Inter[mode] = tempMob_Inter[mode] + prob_Inter[index]*np.sum(odLoc_noInter['ridership'])\n",
    "            tempMob_noInter[mode] = tempMob_noInter[mode] + prob_noInter[index]*np.sum(odLoc_Inter['ridership'])\n",
    "        \n",
    "    lhood = np.exp(like(l, return_prob=True))   # likelihood\n",
    "    for it in mobDiff.keys():\n",
    "        mobDiff[it].append(100.0 * tempMob_Inter[it] / tempMob_noInter[it] - 100.0)\n",
    "    likes.append(lhood)\n",
    "            # tempMob.update((x , y*l)for x, y in tempMob.items())"
   ]
  },
  {
   "cell_type": "code",
   "execution_count": 23,
   "metadata": {},
   "outputs": [
    {
     "name": "stdout",
     "output_type": "stream",
     "text": [
      "#Surcharge of $5 on  private car trips:\n",
      "\n",
      "average change for mode 2 : 10.745123781252678 , std: 2.1192467854307404\n",
      "average change for mode 3 : 31.721710325651355 , std: 10.81038160951602\n",
      "average change for mode 5 : 16.710968144189792 , std: 4.288278050836982\n",
      "average change for mode 8 : -55.702461742374965 , std: 2.547000934784828\n"
     ]
    }
   ],
   "source": [
    "print('#Surcharge of $5 on  private car trips:\\n')\n",
    "for mode in mobDiff.keys():\n",
    "\n",
    "    mean = np.average(mobDiff[mode])\n",
    "    std = abs(np.average((mobDiff[mode] - np.mean(mobDiff[mode]))**2))\n",
    "    print('average change for mode', mode, ':', mean, ', std:', np.sqrt(std))"
   ]
  },
  {
   "cell_type": "code",
   "execution_count": 24,
   "metadata": {},
   "outputs": [
    {
     "data": {
      "text/html": [
       "<div>\n",
       "<style scoped>\n",
       "    .dataframe tbody tr th:only-of-type {\n",
       "        vertical-align: middle;\n",
       "    }\n",
       "\n",
       "    .dataframe tbody tr th {\n",
       "        vertical-align: top;\n",
       "    }\n",
       "\n",
       "    .dataframe thead th {\n",
       "        text-align: right;\n",
       "    }\n",
       "</style>\n",
       "<table border=\"1\" class=\"dataframe\">\n",
       "  <thead>\n",
       "    <tr style=\"text-align: right;\">\n",
       "      <th></th>\n",
       "      <th>pulocationid</th>\n",
       "      <th>dolocationid</th>\n",
       "      <th>tmode</th>\n",
       "      <th>duration</th>\n",
       "      <th>price</th>\n",
       "      <th>ridership</th>\n",
       "    </tr>\n",
       "  </thead>\n",
       "  <tbody>\n",
       "    <tr>\n",
       "      <th>0</th>\n",
       "      <td>3</td>\n",
       "      <td>7</td>\n",
       "      <td>8</td>\n",
       "      <td>0.653356</td>\n",
       "      <td>22.721600</td>\n",
       "      <td>736</td>\n",
       "    </tr>\n",
       "    <tr>\n",
       "      <th>1</th>\n",
       "      <td>3</td>\n",
       "      <td>7</td>\n",
       "      <td>3</td>\n",
       "      <td>0.798016</td>\n",
       "      <td>43.157143</td>\n",
       "      <td>0</td>\n",
       "    </tr>\n",
       "    <tr>\n",
       "      <th>2</th>\n",
       "      <td>3</td>\n",
       "      <td>18</td>\n",
       "      <td>3</td>\n",
       "      <td>0.254000</td>\n",
       "      <td>12.900000</td>\n",
       "      <td>1748</td>\n",
       "    </tr>\n",
       "    <tr>\n",
       "      <th>3</th>\n",
       "      <td>3</td>\n",
       "      <td>18</td>\n",
       "      <td>5</td>\n",
       "      <td>1.084444</td>\n",
       "      <td>0.000000</td>\n",
       "      <td>3174</td>\n",
       "    </tr>\n",
       "    <tr>\n",
       "      <th>4</th>\n",
       "      <td>3</td>\n",
       "      <td>18</td>\n",
       "      <td>8</td>\n",
       "      <td>0.268923</td>\n",
       "      <td>17.432000</td>\n",
       "      <td>10879</td>\n",
       "    </tr>\n",
       "  </tbody>\n",
       "</table>\n",
       "</div>"
      ],
      "text/plain": [
       "   pulocationid  dolocationid  tmode  duration      price  ridership\n",
       "0             3             7      8  0.653356  22.721600        736\n",
       "1             3             7      3  0.798016  43.157143          0\n",
       "2             3            18      3  0.254000  12.900000       1748\n",
       "3             3            18      5  1.084444   0.000000       3174\n",
       "4             3            18      8  0.268923  17.432000      10879"
      ]
     },
     "execution_count": 24,
     "metadata": {},
     "output_type": "execute_result"
    }
   ],
   "source": [
    "#Surcharge of $10 on  private car trips\n",
    "data4 = data.copy()  # make new df\n",
    "data4.loc[data4.tmode == 8, 'price'] = data4.loc[data4.tmode == 8, 'price'] + 10\n",
    "data4.head()"
   ]
  },
  {
   "cell_type": "code",
   "execution_count": 25,
   "metadata": {},
   "outputs": [],
   "source": [
    "lambdas = np.random.choice(trace['lambda'], 3)  # draw samples from lambda posterior\n",
    "# this step could take ~15 mins for 100 samples, reduce the number of samples for faster\n",
    "\n",
    "likes = []   # likelihood values\n",
    "mobDiff = {2:[], 3:[], 5:[], 8:[]}   # mode-shift numbers\n",
    "\n",
    "# estimate trips for lambdas and corresponding likelihoods\n",
    "for l in lambdas:\n",
    "    tempMob_noInter = {2:0, 3:0, 5:0, 8:0}   \n",
    "    tempMob_Inter = {2:0, 3:0, 5:0, 8:0}\n",
    "    for o, d in zip(data[['pulocationid', 'dolocationid']].drop_duplicates()['pulocationid'], \n",
    "        data[['pulocationid', 'dolocationid']].drop_duplicates()['dolocationid']):\n",
    "    \n",
    "        odLoc_noInter = data[(data.pulocationid == o) & (data.dolocationid == d)]\n",
    "        odLoc_Inter = data4[(data4.pulocationid == o) & (data4.dolocationid == d)]  \n",
    "        modes = odLoc_Inter.tmode.values\n",
    "\n",
    "        # probabilities for pre-intervention and post-intervention\n",
    "        prob_noInter = MNL(l, odLoc_noInter)  \n",
    "        prob_Inter = MNL(l, odLoc_Inter)    \n",
    "\n",
    "        for index, mode in enumerate(modes):\n",
    "            tempMob_Inter[mode] = tempMob_Inter[mode] + prob_Inter[index]*np.sum(odLoc_noInter['ridership'])\n",
    "            tempMob_noInter[mode] = tempMob_noInter[mode] + prob_noInter[index]*np.sum(odLoc_Inter['ridership'])\n",
    "        \n",
    "    lhood = np.exp(like(l, return_prob=True))   # likelihood\n",
    "    for it in mobDiff.keys():\n",
    "        mobDiff[it].append(100.0 * tempMob_Inter[it] / tempMob_noInter[it] - 100.0)\n",
    "    likes.append(lhood)\n",
    "            # tempMob.update((x , y*l)for x, y in tempMob.items())"
   ]
  },
  {
   "cell_type": "code",
   "execution_count": 26,
   "metadata": {},
   "outputs": [
    {
     "name": "stdout",
     "output_type": "stream",
     "text": [
      "#Surcharge of $10 on  private car trips:\n",
      "\n",
      "average change for mode 2 : 17.497488578535396 , std: 1.4013252645780585\n",
      "average change for mode 3 : 44.444839509679504 , std: 8.019021487018534\n",
      "average change for mode 5 : 14.938070389517108 , std: 3.6041015498810443\n",
      "average change for mode 8 : -73.97459985762549 , std: 1.159028130497917\n"
     ]
    }
   ],
   "source": [
    "print('#Surcharge of $10 on  private car trips:\\n')\n",
    "for mode in mobDiff.keys():\n",
    "\n",
    "    mean = np.average(mobDiff[mode])\n",
    "    std = abs(np.average((mobDiff[mode] - np.mean(mobDiff[mode]))**2))\n",
    "    print('average change for mode', mode, ':', mean, ', std:', np.sqrt(std))"
   ]
  },
  {
   "cell_type": "code",
   "execution_count": 27,
   "metadata": {},
   "outputs": [
    {
     "name": "stderr",
     "output_type": "stream",
     "text": [
      "/Users/apple/opt/anaconda3/lib/python3.8/site-packages/geopandas/_compat.py:111: UserWarning: The Shapely GEOS version (3.8.0-CAPI-1.13.1 ) is incompatible with the GEOS version PyGEOS was compiled with (3.9.1-CAPI-1.14.2). Conversions between both will be slow.\n",
      "  warnings.warn(\n"
     ]
    }
   ],
   "source": [
    "import geopandas as gpd"
   ]
  },
  {
   "cell_type": "code",
   "execution_count": 28,
   "metadata": {},
   "outputs": [
    {
     "data": {
      "text/html": [
       "<div>\n",
       "<style scoped>\n",
       "    .dataframe tbody tr th:only-of-type {\n",
       "        vertical-align: middle;\n",
       "    }\n",
       "\n",
       "    .dataframe tbody tr th {\n",
       "        vertical-align: top;\n",
       "    }\n",
       "\n",
       "    .dataframe thead th {\n",
       "        text-align: right;\n",
       "    }\n",
       "</style>\n",
       "<table border=\"1\" class=\"dataframe\">\n",
       "  <thead>\n",
       "    <tr style=\"text-align: right;\">\n",
       "      <th></th>\n",
       "      <th>shape_area</th>\n",
       "      <th>objectid</th>\n",
       "      <th>shape_leng</th>\n",
       "      <th>location_id</th>\n",
       "      <th>zone</th>\n",
       "      <th>borough</th>\n",
       "      <th>geometry</th>\n",
       "    </tr>\n",
       "  </thead>\n",
       "  <tbody>\n",
       "    <tr>\n",
       "      <th>0</th>\n",
       "      <td>0.0007823067885</td>\n",
       "      <td>1</td>\n",
       "      <td>0.116357453189</td>\n",
       "      <td>1</td>\n",
       "      <td>Newark Airport</td>\n",
       "      <td>EWR</td>\n",
       "      <td>MULTIPOLYGON (((-74.18445 40.69500, -74.18449 ...</td>\n",
       "    </tr>\n",
       "    <tr>\n",
       "      <th>1</th>\n",
       "      <td>0.00486634037837</td>\n",
       "      <td>2</td>\n",
       "      <td>0.43346966679</td>\n",
       "      <td>2</td>\n",
       "      <td>Jamaica Bay</td>\n",
       "      <td>Queens</td>\n",
       "      <td>MULTIPOLYGON (((-73.82338 40.63899, -73.82277 ...</td>\n",
       "    </tr>\n",
       "    <tr>\n",
       "      <th>2</th>\n",
       "      <td>0.000314414156821</td>\n",
       "      <td>3</td>\n",
       "      <td>0.0843411059012</td>\n",
       "      <td>3</td>\n",
       "      <td>Allerton/Pelham Gardens</td>\n",
       "      <td>Bronx</td>\n",
       "      <td>MULTIPOLYGON (((-73.84793 40.87134, -73.84725 ...</td>\n",
       "    </tr>\n",
       "    <tr>\n",
       "      <th>3</th>\n",
       "      <td>0.000111871946192</td>\n",
       "      <td>4</td>\n",
       "      <td>0.0435665270921</td>\n",
       "      <td>4</td>\n",
       "      <td>Alphabet City</td>\n",
       "      <td>Manhattan</td>\n",
       "      <td>MULTIPOLYGON (((-73.97177 40.72582, -73.97179 ...</td>\n",
       "    </tr>\n",
       "    <tr>\n",
       "      <th>4</th>\n",
       "      <td>0.000497957489363</td>\n",
       "      <td>5</td>\n",
       "      <td>0.0921464898574</td>\n",
       "      <td>5</td>\n",
       "      <td>Arden Heights</td>\n",
       "      <td>Staten Island</td>\n",
       "      <td>MULTIPOLYGON (((-74.17422 40.56257, -74.17349 ...</td>\n",
       "    </tr>\n",
       "  </tbody>\n",
       "</table>\n",
       "</div>"
      ],
      "text/plain": [
       "          shape_area objectid       shape_leng location_id  \\\n",
       "0    0.0007823067885        1   0.116357453189           1   \n",
       "1   0.00486634037837        2    0.43346966679           2   \n",
       "2  0.000314414156821        3  0.0843411059012           3   \n",
       "3  0.000111871946192        4  0.0435665270921           4   \n",
       "4  0.000497957489363        5  0.0921464898574           5   \n",
       "\n",
       "                      zone        borough  \\\n",
       "0           Newark Airport            EWR   \n",
       "1              Jamaica Bay         Queens   \n",
       "2  Allerton/Pelham Gardens          Bronx   \n",
       "3            Alphabet City      Manhattan   \n",
       "4            Arden Heights  Staten Island   \n",
       "\n",
       "                                            geometry  \n",
       "0  MULTIPOLYGON (((-74.18445 40.69500, -74.18449 ...  \n",
       "1  MULTIPOLYGON (((-73.82338 40.63899, -73.82277 ...  \n",
       "2  MULTIPOLYGON (((-73.84793 40.87134, -73.84725 ...  \n",
       "3  MULTIPOLYGON (((-73.97177 40.72582, -73.97179 ...  \n",
       "4  MULTIPOLYGON (((-74.17422 40.56257, -74.17349 ...  "
      ]
     },
     "execution_count": 28,
     "metadata": {},
     "output_type": "execute_result"
    }
   ],
   "source": [
    "taxi = gpd.read_file('https://github.com/CUSP2022ADS/Data/raw/main/taxizone.geojson')\n",
    "taxi.head()"
   ]
  },
  {
   "cell_type": "code",
   "execution_count": 30,
   "metadata": {},
   "outputs": [],
   "source": [
    "Manhattan_id = taxi[taxi['borough'] == 'Manhattan']['location_id'].reset_index()"
   ]
  },
  {
   "cell_type": "code",
   "execution_count": 35,
   "metadata": {},
   "outputs": [],
   "source": [
    "Manhattan_id['location_id'] = Manhattan_id['location_id'].astype(int)"
   ]
  },
  {
   "cell_type": "code",
   "execution_count": 36,
   "metadata": {},
   "outputs": [
    {
     "name": "stderr",
     "output_type": "stream",
     "text": [
      "/Users/apple/opt/anaconda3/lib/python3.8/site-packages/pandas/core/indexing.py:1676: SettingWithCopyWarning: \n",
      "A value is trying to be set on a copy of a slice from a DataFrame.\n",
      "Try using .loc[row_indexer,col_indexer] = value instead\n",
      "\n",
      "See the caveats in the documentation: https://pandas.pydata.org/pandas-docs/stable/user_guide/indexing.html#returning-a-view-versus-a-copy\n",
      "  self._setitem_single_column(ilocs[0], value, pi)\n"
     ]
    },
    {
     "data": {
      "text/html": [
       "<div>\n",
       "<style scoped>\n",
       "    .dataframe tbody tr th:only-of-type {\n",
       "        vertical-align: middle;\n",
       "    }\n",
       "\n",
       "    .dataframe tbody tr th {\n",
       "        vertical-align: top;\n",
       "    }\n",
       "\n",
       "    .dataframe thead th {\n",
       "        text-align: right;\n",
       "    }\n",
       "</style>\n",
       "<table border=\"1\" class=\"dataframe\">\n",
       "  <thead>\n",
       "    <tr style=\"text-align: right;\">\n",
       "      <th></th>\n",
       "      <th>pulocationid</th>\n",
       "      <th>dolocationid</th>\n",
       "      <th>tmode</th>\n",
       "      <th>duration</th>\n",
       "      <th>price</th>\n",
       "      <th>ridership</th>\n",
       "    </tr>\n",
       "  </thead>\n",
       "  <tbody>\n",
       "    <tr>\n",
       "      <th>0</th>\n",
       "      <td>3</td>\n",
       "      <td>7</td>\n",
       "      <td>8</td>\n",
       "      <td>0.653356</td>\n",
       "      <td>12.721600</td>\n",
       "      <td>736</td>\n",
       "    </tr>\n",
       "    <tr>\n",
       "      <th>1</th>\n",
       "      <td>3</td>\n",
       "      <td>7</td>\n",
       "      <td>3</td>\n",
       "      <td>0.798016</td>\n",
       "      <td>43.157143</td>\n",
       "      <td>0</td>\n",
       "    </tr>\n",
       "    <tr>\n",
       "      <th>2</th>\n",
       "      <td>3</td>\n",
       "      <td>18</td>\n",
       "      <td>3</td>\n",
       "      <td>0.254000</td>\n",
       "      <td>12.900000</td>\n",
       "      <td>1748</td>\n",
       "    </tr>\n",
       "    <tr>\n",
       "      <th>3</th>\n",
       "      <td>3</td>\n",
       "      <td>18</td>\n",
       "      <td>5</td>\n",
       "      <td>1.084444</td>\n",
       "      <td>0.000000</td>\n",
       "      <td>3174</td>\n",
       "    </tr>\n",
       "    <tr>\n",
       "      <th>4</th>\n",
       "      <td>3</td>\n",
       "      <td>18</td>\n",
       "      <td>8</td>\n",
       "      <td>0.268923</td>\n",
       "      <td>7.432000</td>\n",
       "      <td>10879</td>\n",
       "    </tr>\n",
       "  </tbody>\n",
       "</table>\n",
       "</div>"
      ],
      "text/plain": [
       "   pulocationid  dolocationid  tmode  duration      price  ridership\n",
       "0             3             7      8  0.653356  12.721600        736\n",
       "1             3             7      3  0.798016  43.157143          0\n",
       "2             3            18      3  0.254000  12.900000       1748\n",
       "3             3            18      5  1.084444   0.000000       3174\n",
       "4             3            18      8  0.268923   7.432000      10879"
      ]
     },
     "execution_count": 36,
     "metadata": {},
     "output_type": "execute_result"
    }
   ],
   "source": [
    "data5 = data.copy()  # make new df\n",
    "data5[data5.pulocationid.isin(Manhattan_id['location_id'])].loc[ data5.tmode == 3, 'price'] = data5.loc[data5.tmode == 3, 'price'] + 3\n",
    "data5.head()"
   ]
  },
  {
   "cell_type": "code",
   "execution_count": 37,
   "metadata": {},
   "outputs": [],
   "source": [
    "lambdas = np.random.choice(trace['lambda'], 3)  # draw samples from lambda posterior\n",
    "# this step could take ~15 mins for 100 samples, reduce the number of samples for faster\n",
    "\n",
    "likes = []   # likelihood values\n",
    "mobDiff = {2:[], 3:[], 5:[], 8:[]}   # mode-shift numbers\n",
    "\n",
    "# estimate trips for lambdas and corresponding likelihoods\n",
    "for l in lambdas:\n",
    "    tempMob_noInter = {2:0, 3:0, 5:0, 8:0}   \n",
    "    tempMob_Inter = {2:0, 3:0, 5:0, 8:0}\n",
    "    for o, d in zip(data[['pulocationid', 'dolocationid']].drop_duplicates()['pulocationid'], \n",
    "        data[['pulocationid', 'dolocationid']].drop_duplicates()['dolocationid']):\n",
    "    \n",
    "        odLoc_noInter = data[(data.pulocationid == o) & (data.dolocationid == d)]\n",
    "        odLoc_Inter = data5[(data5.pulocationid == o) & (data5.dolocationid == d)]  \n",
    "        modes = odLoc_Inter.tmode.values\n",
    "\n",
    "        # probabilities for pre-intervention and post-intervention\n",
    "        prob_noInter = MNL(l, odLoc_noInter)  \n",
    "        prob_Inter = MNL(l, odLoc_Inter)    \n",
    "\n",
    "        for index, mode in enumerate(modes):\n",
    "            tempMob_Inter[mode] = tempMob_Inter[mode] + prob_Inter[index]*np.sum(odLoc_noInter['ridership'])\n",
    "            tempMob_noInter[mode] = tempMob_noInter[mode] + prob_noInter[index]*np.sum(odLoc_Inter['ridership'])\n",
    "        \n",
    "    lhood = np.exp(like(l, return_prob=True))   # likelihood\n",
    "    for it in mobDiff.keys():\n",
    "        mobDiff[it].append(100.0 * tempMob_Inter[it] / tempMob_noInter[it] - 100.0)\n",
    "    likes.append(lhood)\n",
    "            # tempMob.update((x , y*l)for x, y in tempMob.items())"
   ]
  },
  {
   "cell_type": "code",
   "execution_count": 38,
   "metadata": {},
   "outputs": [
    {
     "name": "stdout",
     "output_type": "stream",
     "text": [
      "Surcharge of $3 on taxis from Manhattan:\n",
      "\n",
      "average change for mode 2 : -1.7784126738526567 , std: 0.35806894233973546\n",
      "average change for mode 3 : -1.2830415839501892 , std: 4.170375002012386\n",
      "average change for mode 5 : 2.7894663907679322 , std: 0.1790144983087188\n",
      "average change for mode 8 : 1.9170699862350158 , std: 0.7863294095666408\n"
     ]
    }
   ],
   "source": [
    "print('Surcharge of $3 on taxis from Manhattan:\\n')\n",
    "for mode in mobDiff.keys():\n",
    "\n",
    "    mean = np.average(mobDiff[mode])\n",
    "    std = abs(np.average((mobDiff[mode] - np.mean(mobDiff[mode]))**2))\n",
    "    print('average change for mode', mode, ':', mean, ', std:', np.sqrt(std))"
   ]
  },
  {
   "cell_type": "code",
   "execution_count": null,
   "metadata": {},
   "outputs": [],
   "source": []
  }
 ],
 "metadata": {
  "colab": {
   "collapsed_sections": [],
   "name": "ADS2021_session7_Bayesian_Transportation_case.ipynb",
   "provenance": []
  },
  "kernelspec": {
   "display_name": "Python 3",
   "language": "python",
   "name": "python3"
  },
  "language_info": {
   "codemirror_mode": {
    "name": "ipython",
    "version": 3
   },
   "file_extension": ".py",
   "mimetype": "text/x-python",
   "name": "python",
   "nbconvert_exporter": "python",
   "pygments_lexer": "ipython3",
   "version": "3.8.8"
  }
 },
 "nbformat": 4,
 "nbformat_minor": 1
}
